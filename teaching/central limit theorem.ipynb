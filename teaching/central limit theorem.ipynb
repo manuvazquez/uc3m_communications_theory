{
 "cells": [
  {
   "cell_type": "code",
   "execution_count": null,
   "metadata": {},
   "outputs": [],
   "source": [
    "from typing import Callable\n",
    "\n",
    "import numpy as np\n",
    "import matplotlib.pyplot as plt\n",
    "import scipy.stats\n",
    "\n",
    "from ipywidgets import interact, interactive, fixed, interact_manual\n",
    "import ipywidgets as widgets"
   ]
  },
  {
   "cell_type": "code",
   "execution_count": null,
   "metadata": {},
   "outputs": [],
   "source": [
    "%matplotlib inline"
   ]
  },
  {
   "cell_type": "markdown",
   "metadata": {},
   "source": [
    "# Distributions definitions"
   ]
  },
  {
   "cell_type": "markdown",
   "metadata": {},
   "source": [
    "Different *samplers* are defined and stored in a dictionary for later use."
   ]
  },
  {
   "cell_type": "code",
   "execution_count": null,
   "metadata": {},
   "outputs": [],
   "source": [
    "def gaussian_samples(n: int, mean: float = 1., sd: float = 1.) -> np.ndarray:\n",
    "    return scipy.stats.norm(mean, sd).rvs(n)\n",
    "\n",
    "def uniform_samples(n: int, left: float = 0., right: float = 2.) -> np.ndarray:\n",
    "    return scipy.stats.uniform(left, right).rvs(n)\n",
    "\n",
    "def poisson_samples(n: int, mu: float = 2) -> np.ndarray:\n",
    "    return scipy.stats.poisson(mu).rvs(n)\n",
    "\n",
    "# functions are \"registered\" in a dictionary\n",
    "samplers = {'Gaussian': gaussian_samples, 'uniform': uniform_samples, 'poisson': poisson_samples}"
   ]
  },
  {
   "cell_type": "markdown",
   "metadata": {},
   "source": [
    "# Plotting"
   ]
  },
  {
   "cell_type": "markdown",
   "metadata": {},
   "source": [
    "A convenience function that draws samples and averages them."
   ]
  },
  {
   "cell_type": "code",
   "execution_count": null,
   "metadata": {},
   "outputs": [],
   "source": [
    "def histogram_average(\n",
    "    n_samples_per_average: int, samples_provider: Callable[[int], np.ndarray],\n",
    "    n_averages: int = 10_000):\n",
    "    \n",
    "    samples = samples_provider(\n",
    "        n_averages*n_samples_per_average).reshape(n_samples_per_average, -1).mean(axis=0)\n",
    "    \n",
    "    return samples"
   ]
  },
  {
   "cell_type": "markdown",
   "metadata": {},
   "source": [
    "Below, one can choose the number of samples to be averaged together, and the distribution from which the latter are drawn."
   ]
  },
  {
   "cell_type": "code",
   "execution_count": null,
   "metadata": {},
   "outputs": [],
   "source": [
    "@interact(sampler=list(samplers.items()), n=(1,15))\n",
    "def plot_averages(sampler: Callable = uniform_samples, n: int = 1):\n",
    "    plt.hist(histogram_average(n, sampler), bins='auto');"
   ]
  },
  {
   "cell_type": "markdown",
   "metadata": {},
   "source": [
    "Environment is saved for later reuse/[binder](https://mybinder.org/)"
   ]
  },
  {
   "cell_type": "code",
   "execution_count": null,
   "metadata": {},
   "outputs": [],
   "source": [
    "!conda env export --no-builds --from-history > ../environment.yaml"
   ]
  }
 ],
 "metadata": {
  "kernelspec": {
   "display_name": "Python 3",
   "language": "python",
   "name": "python3"
  },
  "language_info": {
   "codemirror_mode": {
    "name": "ipython",
    "version": 3
   },
   "file_extension": ".py",
   "mimetype": "text/x-python",
   "name": "python",
   "nbconvert_exporter": "python",
   "pygments_lexer": "ipython3",
   "version": "3.7.5"
  }
 },
 "nbformat": 4,
 "nbformat_minor": 4
}
