{
 "cells": [
  {
   "cell_type": "code",
   "execution_count": null,
   "metadata": {},
   "outputs": [],
   "source": [
    "import pathlib\n",
    "\n",
    "import numpy as np\n",
    "import matplotlib.pyplot as plt\n",
    "from ipywidgets import interact, interactive, fixed, interact_manual\n",
    "import ipywidgets as widgets\n",
    "import IPython\n",
    "from IPython.core.display import display\n",
    "\n",
    "import librosa\n",
    "import librosa.display\n",
    "# import soundfile as sf\n",
    "\n",
    "# our own stuff\n",
    "import analog"
   ]
  },
  {
   "cell_type": "markdown",
   "metadata": {},
   "source": [
    "# Introduction"
   ]
  },
  {
   "cell_type": "markdown",
   "metadata": {},
   "source": [
    "Please check the first few [slides of the course](https://manuvazquez.github.io/assets/communications_theory/slides/analog_modulations.pdf) for this module, until *Types of Modulations*. They just review some ideas we saw during the [course introduction](https://manuvazquez.github.io/assets/communications_theory/slides/introduction.pdf) when talking about *Analog vs Digital communications systems*"
   ]
  },
  {
   "cell_type": "markdown",
   "metadata": {},
   "source": [
    "# Amplitude Modulation (conventional AM)"
   ]
  },
  {
   "cell_type": "markdown",
   "metadata": {},
   "source": [
    "An amplitude modulation is a kind of *linear* or *amplitude* (**analog**) modulation, i.e., the information signal is embedded in the amplitude of the signal (meaning the frequency and phase of the *carrier signal* stay constant). If we denote the information signal (also referred to as _modulat**ing**_ signal) by $x(t)$, then the _modulat**ed**_ signal is given by\n",
    "\n",
    "$$\n",
    "\\large\n",
    "y(t)\n",
    "=\n",
    "\\left( \n",
    "    A_c +\n",
    "    A_m\n",
    "    x(t)\n",
    "\\right)\n",
    "\\cos (w_ct)\n",
    "$$\n",
    "where\n",
    "* both $A_c$ and $A_m$ are (adjustable) modulation parameters \n",
    "* $w_c$ is the carrier frequency"
   ]
  },
  {
   "cell_type": "markdown",
   "metadata": {},
   "source": [
    "The above signal can be expressed in a different way\n",
    "\n",
    "$$\n",
    "\\large\n",
    "y(t)\n",
    "=\n",
    "\\left( \n",
    "    A_c +\n",
    "    \\frac{A_c}{A_c}\n",
    "    A_m\n",
    "    x(t)\n",
    "\\right)\n",
    "\\cos (w_ct)\n",
    "=\n",
    "A_c\n",
    "\\left(\n",
    "    1 + mx(t)\n",
    "\\right)\n",
    "\\cos (w_ct)\n",
    "$$\n",
    "by defining the **modulation index**\n",
    "\n",
    "$$\n",
    "\\large\n",
    "m\n",
    "=\n",
    "\\frac{A_m}{A_c}\n",
    "$$\n",
    "."
   ]
  },
  {
   "cell_type": "markdown",
   "metadata": {},
   "source": [
    "# Demodulation"
   ]
  },
  {
   "cell_type": "markdown",
   "metadata": {},
   "source": [
    "If the signal is *normalized* (i.e., $|x(t)| \\le 1$), looking at the above equation, demodulation is very easy if\n",
    "\n",
    "$$\n",
    "    \\large\n",
    "    A_c\n",
    "    \\left(\n",
    "        1 + mx(t)\n",
    "    \\right)\n",
    "    \\ge\n",
    "    0\n",
    "$$\n",
    "\n",
    "i.e., if the term multiplying the cosine is (at every time instant) non-negative. The reason is that whatever *positive* signal multiplies a rapidly varying cosine constitutes its so-called upper [envelope](https://en.wikipedia.org/wiki/Envelope_(waves)) (a smooth signal that outlines the extremes of a sinusoid), and simple/cheap/efficient hardware is available to extract the latter. Now, if the signal is at some point negative, then it cannot be recovered as the envelope of the signal. In our particular case, what do we need for the condition\n",
    "$\n",
    "    A_c\n",
    "    \\left(\n",
    "        1 + mx(t)\n",
    "    \\right)\n",
    "    \\ge\n",
    "    0\n",
    "$\n",
    "to hold? Above we have guaranteed that $|x(t)| \\le 1$. Let us also assume that $A_c \\ge 0$ (no need to go into details, but this is not a problem). Then,  we just need to choose $m$ so that $mx(t) \\ge -1$, i.e., $ 0 < m \\le 1$.\n",
    "\n",
    "So, in summary, if the modulation index, $m$ is between $0$ and $1$, then the envelope of the modulated signal (easy to extract) is exactly\n",
    "$\n",
    "    A_c\n",
    "    \\left(\n",
    "        1 + mx(t)\n",
    "    \\right)\n",
    "    \\ge\n",
    "    0\n",
    "$, and from the latter one can solve for $x(t)$ to recover the information signal. If $m>1$, then the envelope of the signal doesn't match anymore\n",
    "$\n",
    "    A_c\n",
    "    \\left(\n",
    "        1 + mx(t)\n",
    "    \\right)\n",
    "    \\ge\n",
    "    0\n",
    "$\n",
    "and the signal recovered with this envelope-based method is not correct. This is called **overmodulation**."
   ]
  },
  {
   "cell_type": "markdown",
   "metadata": {},
   "source": [
    "# An audio signal"
   ]
  },
  {
   "cell_type": "markdown",
   "metadata": {},
   "source": [
    "We load the song *Reverie* by [\\_ghost](http://ccmixter.org/files/_ghost/25389) (downloaded from [ccMixter](http://ccmixter.org/) under [Creative Commons licence](https://creativecommons.org/licenses/by/3.0/))."
   ]
  },
  {
   "cell_type": "code",
   "execution_count": null,
   "metadata": {},
   "outputs": [],
   "source": [
    "filename = pathlib.Path('_ghost_-_Reverie_(small_theme).mp3')\n",
    "assert filename.exists()"
   ]
  },
  {
   "cell_type": "code",
   "execution_count": null,
   "metadata": {},
   "outputs": [],
   "source": [
    "signal, sampling_rate = librosa.load(filename)\n",
    "signal.shape"
   ]
  },
  {
   "cell_type": "code",
   "execution_count": null,
   "metadata": {},
   "outputs": [],
   "source": [
    "print(f'Sampling rate is {sampling_rate}')"
   ]
  },
  {
   "cell_type": "code",
   "execution_count": null,
   "metadata": {},
   "outputs": [],
   "source": [
    "# in order to force an unnormalized signal\n",
    "amplified_signal = signal * 10"
   ]
  },
  {
   "cell_type": "code",
   "execution_count": null,
   "metadata": {},
   "outputs": [],
   "source": [
    "# time axis\n",
    "t = np.arange(len(signal)) / sampling_rate"
   ]
  },
  {
   "cell_type": "code",
   "execution_count": null,
   "metadata": {},
   "outputs": [],
   "source": [
    "# sf_signal, sf_sample_rate = sf.read(filename.with_suffix('.wav'))\n",
    "# print(sf_sample_rate, sf_signal.shape)"
   ]
  },
  {
   "cell_type": "code",
   "execution_count": null,
   "metadata": {},
   "outputs": [],
   "source": [
    "%matplotlib widget"
   ]
  },
  {
   "cell_type": "code",
   "execution_count": null,
   "metadata": {},
   "outputs": [],
   "source": [
    "# Parameters\n",
    "w_c = 2 * np.pi * 1_000\n",
    "A_m = 1.\n",
    "A_c = 2."
   ]
  },
  {
   "cell_type": "code",
   "execution_count": null,
   "metadata": {},
   "outputs": [],
   "source": [
    "def make_plot_and_player(signal: np.ndarray) -> list:\n",
    "    \n",
    "    # modulation/demodulation\n",
    "    am = analog.AmplitudeModulation(Am=A_m, Ac=A_c, carrier_freq=w_c)\n",
    "    modulated_signal, *_ = am.modulate(t, signal)\n",
    "    demodulated_signal = am.demodulate(modulated_signal)\n",
    "    \n",
    "    res = []\n",
    "\n",
    "    # a `matplotlib` figure embedded in an `Output` widget\n",
    "    figure_size = (6,8)\n",
    "    output = widgets.Output()\n",
    "    with output:\n",
    "        fig, ax = plt.subplots(1, 1, figsize=figure_size)\n",
    "    ax.plot(t, signal);\n",
    "#     fig.set_label(' ')\n",
    "    fig.canvas.header_visible = False\n",
    "    ax.spines['top'].set_visible(False)\n",
    "    ax.spines['right'].set_visible(False)\n",
    "    res.append(output)\n",
    "\n",
    "    # an audio widget\n",
    "    output = widgets.Output()\n",
    "    with output:\n",
    "        IPython.display.display(IPython.display.Audio(demodulated_signal, rate=sampling_rate))\n",
    "    res.append(output)\n",
    "    \n",
    "    return res"
   ]
  },
  {
   "cell_type": "markdown",
   "metadata": {},
   "source": [
    "**<font color='red'>Q1.</font>** Two versions of the audio signal are first modulated and demodulated using the above algebra. Look at the pictures. Can you guess which one is going to sound OK? If not sure, just play both of them for a few seconds. Which one sounds fine? Why not the other?"
   ]
  },
  {
   "cell_type": "code",
   "execution_count": null,
   "metadata": {},
   "outputs": [],
   "source": [
    "widgets.HBox([widgets.VBox(make_plot_and_player(amplified_signal)), widgets.VBox(make_plot_and_player(signal))])"
   ]
  },
  {
   "cell_type": "markdown",
   "metadata": {},
   "source": [
    "# Actual audio signal"
   ]
  },
  {
   "cell_type": "markdown",
   "metadata": {},
   "source": [
    "Signal is *normalized*"
   ]
  },
  {
   "cell_type": "code",
   "execution_count": null,
   "metadata": {},
   "outputs": [],
   "source": [
    "normalized_signal, normalization_const = analog.normalize(signal, return_normalization_constant=True)\n",
    "normalization_const"
   ]
  },
  {
   "cell_type": "markdown",
   "metadata": {},
   "source": [
    "The bandwidth of the signal is"
   ]
  },
  {
   "cell_type": "code",
   "execution_count": null,
   "metadata": {},
   "outputs": [],
   "source": [
    "analog.find_bandwidth(normalized_signal, sampling_rate)"
   ]
  },
  {
   "cell_type": "code",
   "execution_count": null,
   "metadata": {},
   "outputs": [],
   "source": [
    "# period = 1. / sampling_frequency\n",
    "period = 1. / sampling_rate\n",
    "period"
   ]
  },
  {
   "cell_type": "markdown",
   "metadata": {},
   "source": [
    "The time axis"
   ]
  },
  {
   "cell_type": "code",
   "execution_count": null,
   "metadata": {},
   "outputs": [],
   "source": [
    "time = np.arange(len(normalized_signal))*period\n",
    "time[:10]"
   ]
  },
  {
   "cell_type": "code",
   "execution_count": null,
   "metadata": {},
   "outputs": [],
   "source": [
    "librosa.display.waveplot(normalized_signal);"
   ]
  },
  {
   "cell_type": "markdown",
   "metadata": {},
   "source": [
    "In the frequency domain"
   ]
  },
  {
   "cell_type": "code",
   "execution_count": null,
   "metadata": {},
   "outputs": [],
   "source": [
    "fig, ax = plt.subplots(1, 1, figsize=(20,8))\n",
    "f, normalized_signal_fft = analog.fft_modulus(normalized_signal, 1./sampling_rate, only_positive=True)\n",
    "N = len(normalized_signal)\n",
    "ax.plot(f[:N//8], normalized_signal_fft[:N//8]);"
   ]
  },
  {
   "cell_type": "code",
   "execution_count": null,
   "metadata": {},
   "outputs": [],
   "source": [
    "IPython.display.Audio(normalized_signal, rate=sampling_rate)"
   ]
  },
  {
   "cell_type": "code",
   "execution_count": null,
   "metadata": {},
   "outputs": [],
   "source": [
    "# interval_of_interest = range(1_900,2_000)\n",
    "# interval_of_interest = range(2_000,2_500)\n",
    "# interval_of_interest = range(2_000,2_200)\n",
    "interval_of_interest = range(100_000,100_200)"
   ]
  },
  {
   "cell_type": "code",
   "execution_count": null,
   "metadata": {},
   "outputs": [],
   "source": [
    "signal_piece = normalized_signal[interval_of_interest]\n",
    "time_piece = time[interval_of_interest]"
   ]
  },
  {
   "cell_type": "code",
   "execution_count": null,
   "metadata": {},
   "outputs": [],
   "source": [
    "plt.plot(time_piece, signal_piece);"
   ]
  },
  {
   "cell_type": "code",
   "execution_count": null,
   "metadata": {},
   "outputs": [],
   "source": [
    "librosa.display.waveplot(signal_piece);"
   ]
  },
  {
   "cell_type": "markdown",
   "metadata": {},
   "source": [
    "### Modulation"
   ]
  },
  {
   "cell_type": "code",
   "execution_count": null,
   "metadata": {},
   "outputs": [],
   "source": [
    "w_c = 2 * np.pi * 1_000"
   ]
  },
  {
   "cell_type": "code",
   "execution_count": null,
   "metadata": {},
   "outputs": [],
   "source": [
    "# modulated_signal, demodulated_signal, player = None, None, None"
   ]
  },
  {
   "cell_type": "markdown",
   "metadata": {},
   "source": [
    "When you adjust one of the slides, please wait a few seconds (more or less depending on the *cloud* servers load) for the browser to refresh (it should flicker **twice**)."
   ]
  },
  {
   "cell_type": "code",
   "execution_count": null,
   "metadata": {},
   "outputs": [],
   "source": [
    "common_properties = {'min': 0.1, 'max': 50.}\n",
    "Am_slider_widget = widgets.FloatSlider(**common_properties, value=1., description='$A_m$')\n",
    "Ac_slider_widget = widgets.FloatSlider(**common_properties, value=2, description='$A_c$')\n",
    "ui = widgets.VBox([Am_slider_widget, Ac_slider_widget])\n",
    "\n",
    "def f(Am: float, Ac: float):\n",
    "    \n",
    "#     global modulated_signal, demodulated_signal, player\n",
    "    \n",
    "#     am = analog.AmplitudeModulation(Am=Am, Ac=Ac, carrier_freq=1e5)\n",
    "    am = analog.AmplitudeModulation(Am=Am, Ac=Ac, carrier_freq=w_c)\n",
    "    modulated_signal, envelope, cosine_factor = am.modulate(time, normalized_signal)\n",
    "    demodulated_signal = am.demodulate(modulated_signal)\n",
    "    \n",
    "    # figure\n",
    "    fig, ax = plt.subplots(1, 1, figsize=(15,8))\n",
    "\n",
    "#     ax.plot(\n",
    "#         time[interval_of_interest], modulated_signal[interval_of_interest],\n",
    "#         linestyle='dashed', color='gray', label='modulated signal')\n",
    "#     ax0.plot(t, envelope, label='envelope', marker='.', markevery=5)\n",
    "#     ax0.plot(t, cosine_factor, label='$A_c(1 + mx(t))$', marker='s', markevery=5)\n",
    "    ax.plot(\n",
    "        time[interval_of_interest], normalized_signal[interval_of_interest], label='information (modulating) signal')\n",
    "    ax.plot(\n",
    "        time[interval_of_interest], demodulated_signal[interval_of_interest], label='demodulated signal',\n",
    "        marker='P', markevery=5)\n",
    "    ax.legend(bbox_to_anchor=(1.05, 1.0), loc='upper left',fontsize='x-large')\n",
    "    player = IPython.display.Audio(demodulated_signal, rate=sampling_rate)\n",
    "    print(f'm = {am.m}')\n",
    "    \n",
    "    display(IPython.display.Audio(demodulated_signal, rate=sampling_rate))\n",
    "\n",
    "out = widgets.interactive_output(f, {'Am': Am_slider_widget, 'Ac': Ac_slider_widget})\n",
    "IPython.display.display(ui, out)"
   ]
  },
  {
   "cell_type": "markdown",
   "metadata": {},
   "source": [
    "* Try different values of the parameters.\n",
    "* Does overmodulation damage the signal? What is the required degree to actually be able to *hear the difference*?\n",
    "* Provide examples of $A_m$ and $A_c$ for overmodulation\n",
    "* Differences between the unnormalized signal and the normalized one (perception, modulation/demodulation)\n",
    "* What happens with the unnormalized signal?\n",
    "* When is noise perceived?"
   ]
  },
  {
   "cell_type": "markdown",
   "metadata": {},
   "source": [
    "## Frequency Modulation"
   ]
  },
  {
   "cell_type": "code",
   "execution_count": null,
   "metadata": {},
   "outputs": [],
   "source": [
    "time.shape, normalized_signal.shape"
   ]
  },
  {
   "cell_type": "code",
   "execution_count": null,
   "metadata": {},
   "outputs": [],
   "source": [
    "sampling_rate"
   ]
  },
  {
   "cell_type": "code",
   "execution_count": null,
   "metadata": {},
   "outputs": [],
   "source": [
    "noise_sd = 1e-2\n",
    "# noise_sd = 10e-4"
   ]
  },
  {
   "cell_type": "code",
   "execution_count": null,
   "metadata": {},
   "outputs": [],
   "source": [
    "# carrier frequency\n",
    "# w_c = np.pi * 1_000\n",
    "\n",
    "# A, f_d = 10, 50\n",
    "A, f_d = 2., 500"
   ]
  },
  {
   "cell_type": "code",
   "execution_count": null,
   "metadata": {},
   "outputs": [],
   "source": [
    "interval_of_interest = range(100_000, 100_200)"
   ]
  },
  {
   "cell_type": "code",
   "execution_count": null,
   "metadata": {},
   "outputs": [],
   "source": [
    "noise = np.random.randn(*normalized_signal.shape)*noise_sd\n",
    "\n",
    "# FM\n",
    "fm = analog.FrequencyModulation(sampling_rate, A, w_c, f_d)\n",
    "fm_modulated_signal = fm.modulate(time, normalized_signal)\n",
    "fm_modulated_signal += noise\n",
    "fm_demodulated_signal = fm.demodulate(time, fm_modulated_signal)\n",
    "# denoised_fm_modulated_signal = analog.passband_filter(fm_modulated_signal, sampling_rate, [50, 8_000])\n",
    "# fm_demodulated_signal = fm.demodulate(time, denoised_fm_modulated_signal)\n",
    "\n",
    "# AM\n",
    "am = analog.AmplitudeModulation(Am=1., Ac=0.5, carrier_freq=w_c)\n",
    "am_modulated_signal, _, _ = am.modulate(time, normalized_signal)\n",
    "am_demodulated_signal = am.demodulate(am_modulated_signal)\n",
    "\n",
    "fig, ax = plt.subplots(1, 1, figsize=(15,8))\n",
    "ax.plot(time[interval_of_interest], normalized_signal[interval_of_interest], label='information (modulating) signal')\n",
    "ax.plot(time[interval_of_interest], fm_demodulated_signal[interval_of_interest], label='FM demodulated signal')\n",
    "ax.plot(time[interval_of_interest], am_demodulated_signal[interval_of_interest], label='AM demodulated signal')\n",
    "ax.legend(bbox_to_anchor=(1.05, 1.0), loc='upper left',fontsize='x-large');"
   ]
  },
  {
   "cell_type": "markdown",
   "metadata": {},
   "source": [
    "### AM"
   ]
  },
  {
   "cell_type": "code",
   "execution_count": null,
   "metadata": {},
   "outputs": [],
   "source": [
    "IPython.display.Audio(am_demodulated_signal, rate=sampling_rate)"
   ]
  },
  {
   "cell_type": "markdown",
   "metadata": {},
   "source": [
    "### FM"
   ]
  },
  {
   "cell_type": "code",
   "execution_count": null,
   "metadata": {},
   "outputs": [],
   "source": [
    "IPython.display.Audio(fm_demodulated_signal, rate=sampling_rate)"
   ]
  },
  {
   "cell_type": "markdown",
   "metadata": {},
   "source": [
    "The FM modulation index is"
   ]
  },
  {
   "cell_type": "code",
   "execution_count": null,
   "metadata": {},
   "outputs": [],
   "source": [
    "fm.modulation_index(normalized_signal)"
   ]
  },
  {
   "cell_type": "markdown",
   "metadata": {},
   "source": [
    "### SNR"
   ]
  },
  {
   "cell_type": "code",
   "execution_count": null,
   "metadata": {},
   "outputs": [],
   "source": [
    "np.mean(np.abs(fm_modulated_signal)**2)"
   ]
  },
  {
   "cell_type": "code",
   "execution_count": null,
   "metadata": {},
   "outputs": [],
   "source": [
    "np.mean(np.abs(am_modulated_signal)**2)"
   ]
  },
  {
   "cell_type": "markdown",
   "metadata": {},
   "source": [
    "## Spectrum"
   ]
  },
  {
   "cell_type": "code",
   "execution_count": null,
   "metadata": {},
   "outputs": [],
   "source": [
    "w_c / (2 * np.pi)"
   ]
  },
  {
   "cell_type": "code",
   "execution_count": null,
   "metadata": {},
   "outputs": [],
   "source": [
    "f, m = analog.fft_modulus(fm_modulated_signal, sampling_rate)\n",
    "denoised_fm_modulated_signal = analog.passband_filter(fm_modulated_signal, sampling_rate, [750, 1_250])\n",
    "\n",
    "fig, ax = plt.subplots(1, 1, figsize=(15,8))\n",
    "N = 100_000\n",
    "ax.plot(f[:N], m[:N]);"
   ]
  },
  {
   "cell_type": "code",
   "execution_count": null,
   "metadata": {},
   "outputs": [],
   "source": [
    "denoised_fm_modulated_signal = analog.passband_filter(fm_modulated_signal, sampling_rate, [750, 1_250])\n",
    "f, m = analog.fft_modulus(denoised_fm_modulated_signal, sampling_rate)\n",
    "\n",
    "fig, ax = plt.subplots(1, 1, figsize=(15,8))\n",
    "N = 100_000\n",
    "ax.plot(f[:N], m[:N]);"
   ]
  }
 ],
 "metadata": {
  "kernelspec": {
   "display_name": "Python 3",
   "language": "python",
   "name": "python3"
  },
  "language_info": {
   "codemirror_mode": {
    "name": "ipython",
    "version": 3
   },
   "file_extension": ".py",
   "mimetype": "text/x-python",
   "name": "python",
   "nbconvert_exporter": "python",
   "pygments_lexer": "ipython3",
   "version": "3.9.2"
  }
 },
 "nbformat": 4,
 "nbformat_minor": 4
}
