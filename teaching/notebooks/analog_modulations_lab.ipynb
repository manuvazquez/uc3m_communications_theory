{
 "cells": [
  {
   "cell_type": "markdown",
   "metadata": {},
   "source": [
    "a = 1"
   ]
  },
  {
   "cell_type": "code",
   "execution_count": null,
   "metadata": {},
   "outputs": [],
   "source": [
    "import pathlib\n",
    "\n",
    "import numpy as np\n",
    "import matplotlib.pyplot as plt\n",
    "from ipywidgets import interact, interactive, fixed, interact_manual\n",
    "import ipywidgets as widgets\n",
    "import IPython\n",
    "from IPython.core.display import display\n",
    "\n",
    "import librosa\n",
    "import librosa.display\n",
    "# import soundfile as sf\n",
    "\n",
    "# our own stuff\n",
    "import analog"
   ]
  },
  {
   "cell_type": "markdown",
   "metadata": {},
   "source": [
    "# Introduction"
   ]
  },
  {
   "cell_type": "markdown",
   "metadata": {},
   "source": [
    "Please check the first few [slides of the course](https://manuvazquez.github.io/assets/communications_theory/slides/analog_modulations.pdf) for this module, until *Types of Modulations*. They just review some ideas we saw during the [course introduction](https://manuvazquez.github.io/assets/communications_theory/slides/introduction.pdf) when talking about *Analog vs Digital communications systems*"
   ]
  },
  {
   "cell_type": "markdown",
   "metadata": {},
   "source": [
    "# Amplitude Modulation (conventional AM)"
   ]
  },
  {
   "cell_type": "markdown",
   "metadata": {},
   "source": [
    "An amplitude modulation is a kind of *linear* or *amplitude* (**analog**) modulation, i.e., the information signal is embedded in the amplitude of the signal (meaning the frequency and phase of the *carrier signal* stay constant). If we denote the information signal (also referred to as _modulat**ing**_ signal) by $x(t)$, then the _modulat**ed**_ signal is given by\n",
    "\n",
    "$$\n",
    "\\large\n",
    "y(t)\n",
    "=\n",
    "\\left( \n",
    "    A_c +\n",
    "    A_m\n",
    "    x(t)\n",
    "\\right)\n",
    "\\cos (w_ct)\n",
    "$$\n",
    "where\n",
    "* both $A_c$ and $A_m$ are (adjustable) modulation parameters \n",
    "* $w_c$ is the carrier frequency"
   ]
  },
  {
   "cell_type": "markdown",
   "metadata": {},
   "source": [
    "The above signal can be expressed in a different way\n",
    "\n",
    "$$\n",
    "\\large\n",
    "y(t)\n",
    "=\n",
    "\\left( \n",
    "    A_c +\n",
    "    \\frac{A_c}{A_c}\n",
    "    A_m\n",
    "    x(t)\n",
    "\\right)\n",
    "\\cos (w_ct)\n",
    "=\n",
    "A_c\n",
    "\\left(\n",
    "    1 + mx(t)\n",
    "\\right)\n",
    "\\cos (w_ct)\n",
    "$$\n",
    "by defining the **modulation index**\n",
    "\n",
    "$$\n",
    "\\large\n",
    "m\n",
    "=\n",
    "\\frac{A_m}{A_c}\n",
    "$$\n",
    "."
   ]
  },
  {
   "cell_type": "markdown",
   "metadata": {},
   "source": [
    "# Demodulation"
   ]
  },
  {
   "cell_type": "markdown",
   "metadata": {},
   "source": [
    "If the signal is *normalized* (i.e., $|x(t)| \\le 1$), looking at the above equation, demodulation is very easy if\n",
    "\n",
    "$$\n",
    "    \\large\n",
    "    A_c\n",
    "    \\left(\n",
    "        1 + mx(t)\n",
    "    \\right)\n",
    "    \\ge\n",
    "    0\n",
    "$$\n",
    "\n",
    "i.e., if the term multiplying the cosine is (at every time instant) non-negative. The reason is that whatever *positive* signal multiplies a rapidly varying cosine constitutes its so-called upper [envelope](https://en.wikipedia.org/wiki/Envelope_(waves)) (a smooth signal that outlines the extremes of a sinusoid), and simple/cheap/efficient hardware is available to extract the latter. Now, if the signal is at some point negative, then it cannot be recovered as the envelope of the signal. In our particular case, what do we need for the condition\n",
    "$\n",
    "    A_c\n",
    "    \\left(\n",
    "        1 + mx(t)\n",
    "    \\right)\n",
    "    \\ge\n",
    "    0\n",
    "$\n",
    "to hold? Above we have guaranteed that $|x(t)| \\le 1$. Let us also assume that $A_c \\ge 0$ (no need to go into details, but this is not a problem). Then,  we just need to choose $m$ so that $mx(t) \\ge -1$, i.e., $ 0 < m \\le 1$.\n",
    "\n",
    "So, in summary, if the modulation index, $m$ is between $0$ and $1$, then the envelope of the modulated signal (easy to extract) is exactly\n",
    "$\n",
    "    A_c\n",
    "    \\left(\n",
    "        1 + mx(t)\n",
    "    \\right)\n",
    "    \\ge\n",
    "    0\n",
    "$, and from the latter one can solve for $x(t)$ to recover the information signal. If $m>1$, then the envelope of the signal doesn't match anymore\n",
    "$\n",
    "    A_c\n",
    "    \\left(\n",
    "        1 + mx(t)\n",
    "    \\right)\n",
    "    \\ge\n",
    "    0\n",
    "$\n",
    "and the signal recovered with this envelope-based method is not correct. This is called **overmodulation**."
   ]
  },
  {
   "cell_type": "markdown",
   "metadata": {},
   "source": [
    "# An audio signal"
   ]
  },
  {
   "cell_type": "markdown",
   "metadata": {},
   "source": [
    "We load the song *Reverie* by [\\_ghost](http://ccmixter.org/files/_ghost/25389) (downloaded from [ccMixter](http://ccmixter.org/) under [Creative Commons licence](https://creativecommons.org/licenses/by/3.0/))."
   ]
  },
  {
   "cell_type": "code",
   "execution_count": null,
   "metadata": {},
   "outputs": [],
   "source": [
    "filename = pathlib.Path('_ghost_-_Reverie_(small_theme).mp3')\n",
    "assert filename.exists()"
   ]
  },
  {
   "cell_type": "code",
   "execution_count": null,
   "metadata": {},
   "outputs": [],
   "source": [
    "signal, sampling_rate = librosa.load(filename)\n",
    "signal.shape"
   ]
  },
  {
   "cell_type": "code",
   "execution_count": null,
   "metadata": {},
   "outputs": [],
   "source": [
    "print(f'Sampling rate is {sampling_rate}')"
   ]
  },
  {
   "cell_type": "code",
   "execution_count": null,
   "metadata": {},
   "outputs": [],
   "source": [
    "normalized_signal, normalization_const = analog.normalize(signal, return_normalization_constant=True)"
   ]
  },
  {
   "cell_type": "code",
   "execution_count": null,
   "metadata": {},
   "outputs": [],
   "source": [
    "# in order to force an unnormalized signal\n",
    "amplified_signal = signal * 10"
   ]
  },
  {
   "cell_type": "code",
   "execution_count": null,
   "metadata": {},
   "outputs": [],
   "source": [
    "# time axis\n",
    "t = np.arange(len(signal)) / sampling_rate"
   ]
  },
  {
   "cell_type": "code",
   "execution_count": null,
   "metadata": {},
   "outputs": [],
   "source": [
    "# sf_signal, sf_sample_rate = sf.read(filename.with_suffix('.wav'))\n",
    "# print(sf_sample_rate, sf_signal.shape)"
   ]
  },
  {
   "cell_type": "code",
   "execution_count": null,
   "metadata": {},
   "outputs": [],
   "source": [
    "%matplotlib widget"
   ]
  },
  {
   "cell_type": "code",
   "execution_count": null,
   "metadata": {},
   "outputs": [],
   "source": [
    "# Parameters\n",
    "w_c = 2 * np.pi * 1_000\n",
    "A_m = 1.\n",
    "A_c = 2."
   ]
  },
  {
   "cell_type": "code",
   "execution_count": null,
   "metadata": {},
   "outputs": [],
   "source": [
    "def make_plot_and_player(signal: np.ndarray) -> list:\n",
    "    \n",
    "    # modulation/demodulation\n",
    "    am = analog.AmplitudeModulation(Am=A_m, Ac=A_c, carrier_freq=w_c)\n",
    "    modulated_signal, *_ = am.modulate(t, signal)\n",
    "    demodulated_signal = am.demodulate(modulated_signal)\n",
    "    \n",
    "    res = []\n",
    "\n",
    "    # a `matplotlib` figure embedded in an `Output` widget\n",
    "    figure_size = (6,8)\n",
    "    output = widgets.Output()\n",
    "    with output:\n",
    "        fig, ax = plt.subplots(1, 1, figsize=figure_size)\n",
    "    ax.plot(t, signal);\n",
    "#     fig.set_label(' ')\n",
    "    fig.canvas.header_visible = False\n",
    "    ax.spines['top'].set_visible(False)\n",
    "    ax.spines['right'].set_visible(False)\n",
    "    res.append(output)\n",
    "\n",
    "    # an audio widget\n",
    "    output = widgets.Output()\n",
    "    with output:\n",
    "        IPython.display.display(IPython.display.Audio(demodulated_signal, rate=sampling_rate))\n",
    "    res.append(output)\n",
    "    \n",
    "    return res"
   ]
  },
  {
   "cell_type": "markdown",
   "metadata": {},
   "source": [
    "**<font color='red'>Q1.</font>** Two versions of the audio signal are first modulated and demodulated using the above algebra. Look at the pictures. Can you guess which one is going to sound OK? If not sure, just play both of them for a few seconds. Which one sounds fine? Why not the other?"
   ]
  },
  {
   "cell_type": "code",
   "execution_count": null,
   "metadata": {},
   "outputs": [],
   "source": [
    "widgets.HBox([widgets.VBox(make_plot_and_player(amplified_signal)), widgets.VBox(make_plot_and_player(signal))])"
   ]
  },
  {
   "cell_type": "markdown",
   "metadata": {},
   "source": [
    "### Modulation"
   ]
  },
  {
   "cell_type": "code",
   "execution_count": null,
   "metadata": {},
   "outputs": [],
   "source": [
    "# interval_of_interest = range(1_900,2_000)\n",
    "# interval_of_interest = range(2_000,2_500)\n",
    "# interval_of_interest = range(2_000,2_200)\n",
    "interval_of_interest = range(100_000,100_200)"
   ]
  },
  {
   "cell_type": "markdown",
   "metadata": {},
   "source": [
    "When you adjust one of the slides, please wait a few seconds (more or less depending on the *cloud* servers load) for the browser to refresh (it should flicker **twice**)."
   ]
  },
  {
   "cell_type": "code",
   "execution_count": null,
   "metadata": {},
   "outputs": [],
   "source": [
    "common_properties = {'min': 0.1, 'max': 50.}\n",
    "Am_slider_widget = widgets.FloatSlider(**common_properties, value=1., description='$A_m$')\n",
    "Ac_slider_widget = widgets.FloatSlider(**common_properties, value=2, description='$A_c$')\n",
    "ui = widgets.VBox([Am_slider_widget, Ac_slider_widget])\n",
    "\n",
    "def f(Am: float, Ac: float):\n",
    "    \n",
    "    am = analog.AmplitudeModulation(Am=Am, Ac=Ac, carrier_freq=w_c)\n",
    "    modulated_signal, envelope, cosine_factor = am.modulate(t, normalized_signal)\n",
    "    demodulated_signal = am.demodulate(modulated_signal)\n",
    "    \n",
    "    # figure\n",
    "    fig, ax = plt.subplots(1, 1, figsize=(15,8))\n",
    "    ax.plot(\n",
    "        t[interval_of_interest], normalized_signal[interval_of_interest], label='information (modulating) signal')\n",
    "    ax.plot(\n",
    "        t[interval_of_interest], demodulated_signal[interval_of_interest], label='demodulated signal',\n",
    "        marker='P', markevery=5)\n",
    "    ax.legend(bbox_to_anchor=(1.05, 1.0), loc='upper left',fontsize='x-large')\n",
    "    player = IPython.display.Audio(demodulated_signal, rate=sampling_rate)\n",
    "    print(f'm = {am.m}')\n",
    "    \n",
    "    display(IPython.display.Audio(demodulated_signal, rate=sampling_rate))\n",
    "\n",
    "out = widgets.interactive_output(f, {'Am': Am_slider_widget, 'Ac': Ac_slider_widget})\n",
    "IPython.display.display(ui, out)"
   ]
  },
  {
   "cell_type": "markdown",
   "metadata": {},
   "source": [
    "* Try different values of the parameters.\n",
    "* Does overmodulation damage the signal? What is the required degree to actually be able to *hear the difference*?\n",
    "* Provide examples of $A_m$ and $A_c$ for overmodulation\n",
    "* Differences between the unnormalized signal and the normalized one (perception, modulation/demodulation)\n",
    "* What happens with the unnormalized signal?\n",
    "* When is noise perceived?"
   ]
  }
 ],
 "metadata": {
  "kernelspec": {
   "display_name": "Python 3",
   "language": "python",
   "name": "python3"
  },
  "language_info": {
   "codemirror_mode": {
    "name": "ipython",
    "version": 3
   },
   "file_extension": ".py",
   "mimetype": "text/x-python",
   "name": "python",
   "nbconvert_exporter": "python",
   "pygments_lexer": "ipython3",
   "version": "3.9.2"
  }
 },
 "nbformat": 4,
 "nbformat_minor": 4
}
