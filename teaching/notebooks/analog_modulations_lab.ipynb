{
 "cells": [
  {
   "cell_type": "code",
   "execution_count": null,
   "metadata": {},
   "outputs": [],
   "source": [
    "import pathlib\n",
    "\n",
    "import numpy as np\n",
    "import matplotlib.pyplot as plt\n",
    "from ipywidgets import interact, interactive, fixed, interact_manual\n",
    "import ipywidgets as widgets\n",
    "import IPython\n",
    "\n",
    "import librosa\n",
    "import librosa.display\n",
    "\n",
    "# our own stuff\n",
    "import analog"
   ]
  },
  {
   "cell_type": "markdown",
   "metadata": {},
   "source": [
    "Song is *Reverie* by [\\_ghost](http://ccmixter.org/files/_ghost/25389) (downloaded from [ccMixter](http://ccmixter.org/) under [Creative Commons licences](https://creativecommons.org/licenses/by/3.0/))."
   ]
  },
  {
   "cell_type": "markdown",
   "metadata": {},
   "source": [
    "# Introduction"
   ]
  },
  {
   "cell_type": "markdown",
   "metadata": {},
   "source": [
    "Please check the first few [slides of the course](https://manuvazquez.github.io/assets/communications_theory/slides/analog_modulations.pdf) for this module, until *Types of Modulations*. They just review some ideas we saw during the [course introduction](https://manuvazquez.github.io/assets/communications_theory/slides/introduction.pdf) when talking about *Analog vs Digital communications systems*"
   ]
  },
  {
   "cell_type": "markdown",
   "metadata": {},
   "source": [
    "# Amplitude Modulation (conventional AM)"
   ]
  },
  {
   "cell_type": "markdown",
   "metadata": {},
   "source": [
    "An amplitude modulation is a kind of *linear* or *amplitude* (**analog**) modulation, i.e., the information signal is embedded in the amplitude of the signal (meaning the frequency and phase of the *carrier signal* stay constant). If we denote the information signal (also referred to as _modulat**ing**_ signal) by $x(t)$, then the _modulat**ed**_ signal is given by\n",
    "\n",
    "$$\n",
    "\\large\n",
    "y(t)\n",
    "=\n",
    "\\left( \n",
    "    A_c +\n",
    "    A_m\n",
    "    x(t)\n",
    "\\right)\n",
    "\\cos (w_ct)\n",
    "$$\n",
    "where\n",
    "* both $A_c$ and $A_m$ are (adjustable) modulation parameters \n",
    "* $w_c$ is the carrier frequency"
   ]
  },
  {
   "cell_type": "markdown",
   "metadata": {},
   "source": [
    "## Information signal"
   ]
  },
  {
   "cell_type": "markdown",
   "metadata": {},
   "source": [
    "Let's build a (deterministic) information (*modulating*) signal"
   ]
  },
  {
   "cell_type": "code",
   "execution_count": null,
   "metadata": {},
   "outputs": [],
   "source": [
    "# parameters\n",
    "signal_duration = 1.0 # seconds\n",
    "sampling_frequency = 200.0 # Hz\n",
    "w_c = np.pi * 20 # carrier frequency\n",
    "\n",
    "n_samples = int(sampling_frequency * signal_duration)\n",
    "t = np.arange(n_samples) / sampling_frequency\n",
    "\n",
    "# the information signal\n",
    "modulating_signal = 0.1*np.cos(2.0*np.pi*10*t) + np.sin(2.0*np.pi*3*t) + 10*(t-t.mean())**2 - 2"
   ]
  },
  {
   "cell_type": "markdown",
   "metadata": {},
   "source": [
    "The resulting signal is"
   ]
  },
  {
   "cell_type": "code",
   "execution_count": null,
   "metadata": {},
   "outputs": [],
   "source": [
    "y_limits = [-3.25, 1.1]\n",
    "figure_size = (12,8)\n",
    "\n",
    "fig, ax = plt.subplots(1, 1, figsize=figure_size)\n",
    "ax.plot(t, modulating_signal, label='information signal')\n",
    "ax.set_ylim(y_limits)\n",
    "ax.legend();"
   ]
  },
  {
   "cell_type": "markdown",
   "metadata": {},
   "source": [
    "## Normalized information signal"
   ]
  },
  {
   "cell_type": "markdown",
   "metadata": {},
   "source": [
    "The minimum value of the signal is about $-3$ and the maximum slightly above $0.75$. For reasons that will be clear in a moment, a signal that is to be transmitted using AM must be constrained between $-1$ and $1$. However, this is not a problem in practice: we can always *normalize* the signal by the maximum of its absolute value, i.e.,\n",
    "\n",
    "$$\n",
    "    \\large\n",
    "    x_n(t)\n",
    "    =\n",
    "    \\frac{x(t)}\n",
    "    {\n",
    "        \\max\n",
    "        |x(t)|\n",
    "    }\n",
    "    ,\n",
    "$$\n",
    "to get"
   ]
  },
  {
   "cell_type": "code",
   "execution_count": null,
   "metadata": {},
   "outputs": [],
   "source": [
    "modulating_signal /= np.abs(modulating_signal).max()\n",
    "\n",
    "fig, ax = plt.subplots(1, 1, figsize=figure_size)\n",
    "ax.plot(t, modulating_signal, label='information signal')\n",
    "ax.set_ylim(y_limits)\n",
    "for y in [-1, 1]:\n",
    "    ax.axhline(y=y, linestyle='dashed', color='gray')\n",
    "ax.legend();"
   ]
  },
  {
   "cell_type": "markdown",
   "metadata": {},
   "source": [
    "Notice that the normalized signal conveys exactly the **same information** (information is in the shape, not the amplitude). Moreover, one could think of this transformation as simple change of units (such as, e.g., going from kilometers to meters)."
   ]
  },
  {
   "cell_type": "markdown",
   "metadata": {},
   "source": [
    "## Expressing the modulated signal in a different way"
   ]
  },
  {
   "cell_type": "markdown",
   "metadata": {},
   "source": [
    "We can rewrite the *modulated* signal in a different way\n",
    "\n",
    "$$\n",
    "    \\large\n",
    "    y(t)\n",
    "    =\n",
    "    \\left( \n",
    "        A_c +\n",
    "        \\frac{A_c}{A_c}\n",
    "        A_m\n",
    "        x(t)\n",
    "    \\right)\n",
    "    \\cos (w_ct)\n",
    "    =\n",
    "    A_c\n",
    "    \\left(\n",
    "        1 + mx(t)\n",
    "    \\right)\n",
    "    \\cos (w_ct)\n",
    "$$\n",
    "by defining the **modulation index**\n",
    "\n",
    "$$\n",
    "    \\large\n",
    "    m\n",
    "    =\n",
    "    \\frac{A_m}{A_c}\n",
    "$$\n",
    "."
   ]
  },
  {
   "cell_type": "markdown",
   "metadata": {},
   "source": [
    "# Modulation"
   ]
  },
  {
   "cell_type": "markdown",
   "metadata": {},
   "source": [
    "Let's plot again the information (_modulat**ing**_) signal along with the resulted _modulat**ed**_ signal:"
   ]
  },
  {
   "cell_type": "code",
   "execution_count": null,
   "metadata": {},
   "outputs": [],
   "source": [
    "# an object implementing the above equations\n",
    "am = analog.AmplitudeModulation(Am=0.5, Ac=1., carrier_freq=w_c)\n",
    "\n",
    "am.mpl_plot_modulation(t, modulating_signal)"
   ]
  },
  {
   "cell_type": "markdown",
   "metadata": {},
   "source": [
    "# Demodulation"
   ]
  },
  {
   "cell_type": "markdown",
   "metadata": {},
   "source": [
    "Looking at the above equation, demodulation is very easy if\n",
    "\n",
    "$$\n",
    "    \\large\n",
    "    A_c\n",
    "    \\left(\n",
    "        1 + mx(t)\n",
    "    \\right)\n",
    "    \\ge\n",
    "    0\n",
    "$$\n",
    "\n",
    "i.e., if the term multiplying the cosine is (at every time instant) non-negative. The reason is that whatever *positive* signal multiplies a rapidly varying cosine constitutes its so-called upper [envelope](https://en.wikipedia.org/wiki/Envelope_(waves)) (a smooth signal that outlines the extremes of a sinusoid), and simple/cheap/efficient hardware is available to extract the latter. Now, if the signal is at some point negative, then it cannot be recovered as the envelope of the signal. In our particular case, what do we need for the condition\n",
    "$\n",
    "    A_c\n",
    "    \\left(\n",
    "        1 + mx(t)\n",
    "    \\right)\n",
    "    \\ge\n",
    "    0\n",
    "$\n",
    "to hold? Above we have guaranteed that $|x(t)| \\le 1$. Let us also assume that $A_c \\ge 0$ (no need to go into details, but this is not a problem). Then,  we just need to choose $m$ so that $mx(t) \\ge -1$, i.e., $ 0 < m \\le 1$.\n",
    "\n",
    "So, in summary, if the modulation index, $m$ is between $0$ and $1$, then the envelope of the modulated signal (easy to extract) is exactly\n",
    "$\n",
    "    A_c\n",
    "    \\left(\n",
    "        1 + mx(t)\n",
    "    \\right)\n",
    "    \\ge\n",
    "    0\n",
    "$, and from the latter one can solve for $x(t)$ to recover the information signal. If $m>1$, then the envelope of the signal doesn't match anymore\n",
    "$\n",
    "    A_c\n",
    "    \\left(\n",
    "        1 + mx(t)\n",
    "    \\right)\n",
    "    \\ge\n",
    "    0\n",
    "$\n",
    "and the signal recovered with this envelope-based method is not correct. This is called **overmodulation**."
   ]
  },
  {
   "cell_type": "markdown",
   "metadata": {},
   "source": [
    "The figure below allows one to experiment with different values for the modulation index. It can be seen that when $m>1$ (overmodulation), the *envelope* is not equal to $A_c(1 + mx(t))$ anymore, and hence neither is the *demodulated signal* to the information one. Notice that the envelope is *always* positive and hence, whenever $A_c(1 + mx(t))$ becomes negative, we get in trouble."
   ]
  },
  {
   "cell_type": "code",
   "execution_count": null,
   "metadata": {},
   "outputs": [],
   "source": [
    "@interact(m=(0.25,2, 0.25))\n",
    "def plot(m=0.5):\n",
    "    \n",
    "    # the modulation index is changed...\n",
    "    am.m = m\n",
    "    \n",
    "    # and the modulated, envelope signal and \"cosine_factor\" (the signal in the above equation)\n",
    "    modulated_signal, envelope, cosine_factor = am.modulate(t, modulating_signal)\n",
    "\n",
    "    # the signal is demodulated through the (upper) envelope\n",
    "    demodulated_signal = (analog.upper_envelope(modulated_signal) / am.Ac - 1.) / am.m\n",
    "\n",
    "    # figure\n",
    "    fig, ax0 = plt.subplots(1, 1, figsize=(15,8))\n",
    "\n",
    "    ax0.plot(t, modulated_signal, linestyle='dashed', color='gray', label='modulated signal')\n",
    "    ax0.plot(t, envelope, label='envelope', marker='.', markevery=5)\n",
    "    ax0.plot(t, cosine_factor, label='$A_c(1 + mx(t))$', marker='s', markevery=5)\n",
    "    ax0.plot(t, modulating_signal, label='information (modulating) signal')\n",
    "    ax0.plot(t, demodulated_signal, label='demodulated signal', marker='P', markevery=5)\n",
    "    ax0.legend(bbox_to_anchor=(1.05, 1.0), loc='upper left',fontsize='x-large')"
   ]
  },
  {
   "cell_type": "code",
   "execution_count": null,
   "metadata": {},
   "outputs": [],
   "source": [
    "# filename = pathlib.Path('02 Eruption.mp3')\n",
    "filename = pathlib.Path('_ghost_-_Reverie_(small_theme).mp3')\n",
    "assert filename.exists()"
   ]
  },
  {
   "cell_type": "code",
   "execution_count": null,
   "metadata": {},
   "outputs": [],
   "source": [
    "signal, sampling_rate = librosa.load(filename)"
   ]
  },
  {
   "cell_type": "code",
   "execution_count": null,
   "metadata": {},
   "outputs": [],
   "source": [
    "signal.shape"
   ]
  },
  {
   "cell_type": "code",
   "execution_count": null,
   "metadata": {},
   "outputs": [],
   "source": [
    "print(f'Sampling rate is {sampling_rate}')"
   ]
  },
  {
   "cell_type": "markdown",
   "metadata": {},
   "source": [
    "Signal is *normalized*"
   ]
  },
  {
   "cell_type": "code",
   "execution_count": null,
   "metadata": {},
   "outputs": [],
   "source": [
    "# assert np.abs(signal).max() < 1\n",
    "# if np.abs(signal).max() < 1:\n",
    "normalized_signal, normalization_const = analog.normalize(signal, return_normalization_constant=True)\n",
    "normalization_const"
   ]
  },
  {
   "cell_type": "code",
   "execution_count": null,
   "metadata": {},
   "outputs": [],
   "source": [
    "period = 1. / sampling_frequency\n",
    "period"
   ]
  },
  {
   "cell_type": "markdown",
   "metadata": {},
   "source": [
    "The time axis"
   ]
  },
  {
   "cell_type": "code",
   "execution_count": null,
   "metadata": {},
   "outputs": [],
   "source": [
    "time = np.arange(len(normalized_signal))*period\n",
    "time[:10]"
   ]
  },
  {
   "cell_type": "code",
   "execution_count": null,
   "metadata": {},
   "outputs": [],
   "source": [
    "librosa.display.waveplot(normalized_signal);"
   ]
  },
  {
   "cell_type": "code",
   "execution_count": null,
   "metadata": {},
   "outputs": [],
   "source": [
    "IPython.display.Audio(normalized_signal, rate=sampling_rate)"
   ]
  },
  {
   "cell_type": "code",
   "execution_count": null,
   "metadata": {},
   "outputs": [],
   "source": [
    "# interval_of_interest = range(1_900,2_000)\n",
    "# interval_of_interest = range(2_000,2_500)\n",
    "interval_of_interest = range(2_000,2_200)"
   ]
  },
  {
   "cell_type": "code",
   "execution_count": null,
   "metadata": {},
   "outputs": [],
   "source": [
    "signal_piece = normalized_signal[interval_of_interest]\n",
    "time_piece = time[interval_of_interest]"
   ]
  },
  {
   "cell_type": "code",
   "execution_count": null,
   "metadata": {},
   "outputs": [],
   "source": [
    "plt.plot(time_piece, signal_piece);"
   ]
  },
  {
   "cell_type": "code",
   "execution_count": null,
   "metadata": {},
   "outputs": [],
   "source": [
    "librosa.display.waveplot(signal_piece);"
   ]
  },
  {
   "cell_type": "code",
   "execution_count": null,
   "metadata": {},
   "outputs": [],
   "source": [
    "# IPython.display.Audio(signal_piece, rate=sampling_rate)"
   ]
  },
  {
   "cell_type": "markdown",
   "metadata": {},
   "source": [
    "### Modulation"
   ]
  },
  {
   "cell_type": "code",
   "execution_count": null,
   "metadata": {},
   "outputs": [],
   "source": [
    "modulated_signal, demodulated_signal, player = None, None, None"
   ]
  },
  {
   "cell_type": "code",
   "execution_count": null,
   "metadata": {},
   "outputs": [],
   "source": [
    "common_properties = {'min': 0.1, 'max': 50.}\n",
    "Am_slider_widget = widgets.FloatSlider(**common_properties, value=1., description='$A_m$')\n",
    "Ac_slider_widget = widgets.FloatSlider(**common_properties, value=2, description='$A_c$')\n",
    "ui = widgets.VBox([Am_slider_widget, Ac_slider_widget])\n",
    "\n",
    "# player = IPython.display.Audio(demodulated_signal, rate=sampling_rate)\n",
    "\n",
    "def f(Am: float, Ac: float):\n",
    "    \n",
    "    global modulated_signal, demodulated_signal, player\n",
    "    \n",
    "    am = analog.AmplitudeModulation(Am=Am, Ac=Ac, carrier_freq=1e5)\n",
    "    modulated_signal, envelope, cosine_factor = am.modulate(time, normalized_signal)\n",
    "    demodulated_signal = am.demodulate(modulated_signal)\n",
    "    \n",
    "    # figure\n",
    "    fig, ax = plt.subplots(1, 1, figsize=(15,8))\n",
    "\n",
    "#     ax.plot(\n",
    "#         time[interval_of_interest], modulated_signal[interval_of_interest],\n",
    "#         linestyle='dashed', color='gray', label='modulated signal')\n",
    "#     ax0.plot(t, envelope, label='envelope', marker='.', markevery=5)\n",
    "#     ax0.plot(t, cosine_factor, label='$A_c(1 + mx(t))$', marker='s', markevery=5)\n",
    "    ax.plot(\n",
    "        time[interval_of_interest], normalized_signal[interval_of_interest], label='information (modulating) signal')\n",
    "    ax.plot(\n",
    "        time[interval_of_interest], demodulated_signal[interval_of_interest], label='demodulated signal',\n",
    "        marker='P', markevery=5)\n",
    "    ax.legend(bbox_to_anchor=(1.05, 1.0), loc='upper left',fontsize='x-large')\n",
    "    player = IPython.display.Audio(demodulated_signal, rate=sampling_rate)\n",
    "#     player.reload()\n",
    "    print(f'm = {am.m}')\n",
    "\n",
    "out = widgets.interactive_output(f, {'Am': Am_slider_widget, 'Ac': Ac_slider_widget})\n",
    "# IPython.display.display(ui, out)\n",
    "IPython.display.display(ui, out, player)"
   ]
  },
  {
   "cell_type": "code",
   "execution_count": null,
   "metadata": {},
   "outputs": [],
   "source": [
    "player.reload()\n",
    "dir(player)"
   ]
  },
  {
   "cell_type": "code",
   "execution_count": null,
   "metadata": {},
   "outputs": [],
   "source": [
    "player"
   ]
  },
  {
   "cell_type": "code",
   "execution_count": null,
   "metadata": {},
   "outputs": [],
   "source": [
    "# IPython.display.Audio(demodulated_signal, rate=sampling_rate)"
   ]
  },
  {
   "cell_type": "markdown",
   "metadata": {},
   "source": [
    "* Try different values of the parameters.\n",
    "* Does overmodulation damage the signal? What is the required degree to actually be able to *hear the difference*?"
   ]
  }
 ],
 "metadata": {
  "kernelspec": {
   "display_name": "Python 3",
   "language": "python",
   "name": "python3"
  },
  "language_info": {
   "codemirror_mode": {
    "name": "ipython",
    "version": 3
   },
   "file_extension": ".py",
   "mimetype": "text/x-python",
   "name": "python",
   "nbconvert_exporter": "python",
   "pygments_lexer": "ipython3",
   "version": "3.9.1"
  }
 },
 "nbformat": 4,
 "nbformat_minor": 4
}
