{
 "cells": [
  {
   "cell_type": "markdown",
   "metadata": {},
   "source": [
    "The [Central Limit Theorem](https://en.wikipedia.org/wiki/Central_limit_theorem) states\n",
    "> in many situations, when independent random variables are summed up, their properly normalized sum tends toward a normal distribution (informally a bell curve) even if the original variables themselves are not normally distributed. (Wikipedia, 2021)"
   ]
  },
  {
   "cell_type": "code",
   "execution_count": null,
   "metadata": {},
   "outputs": [],
   "source": [
    "from typing import Callable\n",
    "\n",
    "import numpy as np\n",
    "import matplotlib.pyplot as plt\n",
    "from ipywidgets import interact, interactive, fixed, interact_manual\n",
    "import ipywidgets as widgets\n",
    "\n",
    "# our own stuff\n",
    "import sampling"
   ]
  },
  {
   "cell_type": "code",
   "execution_count": null,
   "metadata": {},
   "outputs": [],
   "source": [
    "%matplotlib inline\n",
    "# %matplotlib widget"
   ]
  },
  {
   "cell_type": "code",
   "execution_count": null,
   "metadata": {},
   "outputs": [],
   "source": [
    "# Different *samplers* are defined in the `sampling` module. Their implementing functions are *registered* in a\n",
    "# dictionary to allow switching among different distributions below\n",
    "samplers = {\n",
    "    'Gaussian': sampling.gaussian_samples,\n",
    "    'uniform': sampling.uniform_samples,\n",
    "    'gamma': sampling.gamma_samples,\n",
    "    'exponential': sampling.exponential_samples,\n",
    "    # 'Cauchy': sampling.cauchy_samples, # very slow\n",
    "    'chi-squared': sampling.chi2_samples,\n",
    "    'Wald': sampling.wald_samples\n",
    "}"
   ]
  },
  {
   "cell_type": "code",
   "execution_count": null,
   "metadata": {},
   "outputs": [],
   "source": [
    "# A convenience function that draws samples and averages them\n",
    "def histogram_average(\n",
    "    n_samples_per_average: int, samples_provider: Callable[[int], np.ndarray],\n",
    "    n_averages: int = 10_000):\n",
    "    \n",
    "    samples = samples_provider(\n",
    "        n_averages*n_samples_per_average).reshape(n_samples_per_average, -1).mean(axis=0)\n",
    "    \n",
    "    return samples"
   ]
  },
  {
   "cell_type": "code",
   "execution_count": null,
   "metadata": {},
   "outputs": [],
   "source": [
    "# for testing new distributions\n",
    "# plt.hist(histogram_average(2, sampling.wald_samples), bins='auto');"
   ]
  },
  {
   "cell_type": "markdown",
   "metadata": {},
   "source": [
    "The controls below allow to choose:\n",
    "- a distribution from which to draw samples, on one hand, and\n",
    "- the number of samples that are averaged together, on the other hand.\n",
    "\n",
    "A histogram is then built from averages $A_1, A_2, \\cdots,A_{1,000}$ where\n",
    "\n",
    "$$\n",
    "A_i\n",
    "=\n",
    "\\sum_{j=1}^n\n",
    "x_j\n",
    "$$\n",
    "\n",
    "with $x_j$ being drawn from the selected distribution.\n",
    "\n",
    "Notice that, importantly, if you choose $n=1$ you are averaging collections of $1$ sample, which amounts to **not** computing an average at all, and hence in such a case you are seeing a histogram of samples from the selected distribution (tl;dr: $n=1$ shows a histogram of the distribution of choice)."
   ]
  },
  {
   "cell_type": "code",
   "execution_count": null,
   "metadata": {},
   "outputs": [],
   "source": [
    "@interact(distribution=list(samplers.items()), n=(1,25))\n",
    "def plot_averages(distribution: Callable = sampling.uniform_samples, n: int = 1):\n",
    "    plt.cla()\n",
    "    plt.hist(histogram_average(n, distribution), bins='auto');"
   ]
  }
 ],
 "metadata": {
  "kernelspec": {
   "display_name": "Python 3 (ipykernel)",
   "language": "python",
   "name": "python3"
  },
  "language_info": {
   "codemirror_mode": {
    "name": "ipython",
    "version": 3
   },
   "file_extension": ".py",
   "mimetype": "text/x-python",
   "name": "python",
   "nbconvert_exporter": "python",
   "pygments_lexer": "ipython3",
   "version": "3.9.9"
  }
 },
 "nbformat": 4,
 "nbformat_minor": 4
}
