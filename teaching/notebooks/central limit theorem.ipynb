{
 "cells": [
  {
   "cell_type": "markdown",
   "metadata": {},
   "source": [
    "<font color=\"red\">Instructions</font> (for non-python/jupyter programmers)\n",
    "* select *Run All* in the *Cell* menu above\n",
    "* move to the bottom of the *notebook* and play around with the UI controls (the *sampler* and the *n* parameter)"
   ]
  },
  {
   "cell_type": "code",
   "execution_count": null,
   "metadata": {},
   "outputs": [],
   "source": [
    "from typing import Callable\n",
    "\n",
    "import numpy as np\n",
    "import matplotlib.pyplot as plt\n",
    "from ipywidgets import interact, interactive, fixed, interact_manual\n",
    "import ipywidgets as widgets\n",
    "\n",
    "# our own stuff\n",
    "import sampling"
   ]
  },
  {
   "cell_type": "code",
   "execution_count": null,
   "metadata": {},
   "outputs": [],
   "source": [
    "%matplotlib inline"
   ]
  },
  {
   "cell_type": "markdown",
   "metadata": {},
   "source": [
    "# Distributions definitions"
   ]
  },
  {
   "cell_type": "markdown",
   "metadata": {},
   "source": [
    "Different *samplers* are defined in the `sampling` module. Their implementing functions are *registered* in a dictionary to allow switching among different distributions below"
   ]
  },
  {
   "cell_type": "code",
   "execution_count": null,
   "metadata": {},
   "outputs": [],
   "source": [
    "samplers = {'Gaussian': sampling.gaussian_samples, 'uniform': sampling.uniform_samples, 'poisson': sampling.poisson_samples}"
   ]
  },
  {
   "cell_type": "markdown",
   "metadata": {},
   "source": [
    "# Plotting"
   ]
  },
  {
   "cell_type": "markdown",
   "metadata": {},
   "source": [
    "A convenience function that draws samples and averages them."
   ]
  },
  {
   "cell_type": "code",
   "execution_count": null,
   "metadata": {},
   "outputs": [],
   "source": [
    "def histogram_average(\n",
    "    n_samples_per_average: int, samples_provider: Callable[[int], np.ndarray],\n",
    "    n_averages: int = 10_000):\n",
    "    \n",
    "    samples = samples_provider(\n",
    "        n_averages*n_samples_per_average).reshape(n_samples_per_average, -1).mean(axis=0)\n",
    "    \n",
    "    return samples"
   ]
  },
  {
   "cell_type": "markdown",
   "metadata": {},
   "source": [
    "Below, one can choose the number of samples to be averaged together, and the distribution from which the latter are drawn."
   ]
  },
  {
   "cell_type": "code",
   "execution_count": null,
   "metadata": {},
   "outputs": [],
   "source": [
    "@interact(sampler=list(samplers.items()), n=(1,15))\n",
    "def plot_averages(sampler: Callable = sampling.uniform_samples, n: int = 1):\n",
    "    plt.hist(histogram_average(n, sampler), bins='auto');"
   ]
  }
 ],
 "metadata": {
  "kernelspec": {
   "display_name": "Python 3",
   "language": "python",
   "name": "python3"
  },
  "language_info": {
   "codemirror_mode": {
    "name": "ipython",
    "version": 3
   },
   "file_extension": ".py",
   "mimetype": "text/x-python",
   "name": "python",
   "nbconvert_exporter": "python",
   "pygments_lexer": "ipython3",
   "version": "3.8.1"
  }
 },
 "nbformat": 4,
 "nbformat_minor": 4
}
