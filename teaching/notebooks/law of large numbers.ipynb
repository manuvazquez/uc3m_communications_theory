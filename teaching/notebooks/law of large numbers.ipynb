{
 "cells": [
  {
   "cell_type": "code",
   "execution_count": null,
   "metadata": {},
   "outputs": [],
   "source": [
    "import numpy as np\n",
    "import matplotlib.pyplot as plt\n",
    "import scipy.stats\n",
    "\n",
    "from ipywidgets import interact, interactive, fixed, interact_manual\n",
    "import ipywidgets as widgets\n",
    "\n",
    "# our own stuff\n",
    "import sampling"
   ]
  },
  {
   "cell_type": "code",
   "execution_count": null,
   "metadata": {},
   "outputs": [],
   "source": [
    "%matplotlib inline"
   ]
  },
  {
   "cell_type": "markdown",
   "metadata": {},
   "source": [
    "# Parameters of a Gaussian distribution"
   ]
  },
  {
   "cell_type": "code",
   "execution_count": null,
   "metadata": {},
   "outputs": [],
   "source": [
    "mean = -5\n",
    "standard_deviation = 100"
   ]
  },
  {
   "cell_type": "markdown",
   "metadata": {},
   "source": [
    "# Inferring the **mean** of the distribution"
   ]
  },
  {
   "cell_type": "code",
   "execution_count": null,
   "metadata": {},
   "outputs": [],
   "source": [
    "@interact(n_samples=(2,100_000,100))\n",
    "def plot_actual_and_estimate(n_samples: int = 2) -> None:\n",
    "    \n",
    "    fig = plt.figure()\n",
    "    axes = plt.axes()\n",
    "    axes.set_xlim(mean - standard_deviation*3, mean + standard_deviation*3)\n",
    "    axes.axvline(mean, linewidth=2, color='red')\n",
    "    \n",
    "    samples = sampling.gaussian_samples(n_samples, mean, standard_deviation)\n",
    "    mean_estimate = samples.mean()\n",
    "    axes.axvline(mean_estimate, linestyle='dashed', linewidth=3, color='blue')\n",
    "    \n",
    "    print(f'estimate = {mean_estimate} (difference = {np.abs(mean - mean_estimate)})')"
   ]
  }
 ],
 "metadata": {
  "kernelspec": {
   "display_name": "Python 3",
   "language": "python",
   "name": "python3"
  },
  "language_info": {
   "codemirror_mode": {
    "name": "ipython",
    "version": 3
   },
   "file_extension": ".py",
   "mimetype": "text/x-python",
   "name": "python",
   "nbconvert_exporter": "python",
   "pygments_lexer": "ipython3",
   "version": "3.7.5"
  }
 },
 "nbformat": 4,
 "nbformat_minor": 4
}
