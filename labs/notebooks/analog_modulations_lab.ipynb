{
 "cells": [
  {
   "cell_type": "code",
   "execution_count": null,
   "metadata": {},
   "outputs": [],
   "source": [
    "import pathlib\n",
    "\n",
    "import numpy as np\n",
    "import matplotlib.pyplot as plt\n",
    "from ipywidgets import interact, interactive, fixed, interact_manual\n",
    "import ipywidgets as widgets\n",
    "import IPython\n",
    "from IPython.core.display import display\n",
    "\n",
    "import librosa\n",
    "import librosa.display\n",
    "\n",
    "# our own stuff\n",
    "from ct_utils import analog"
   ]
  },
  {
   "cell_type": "code",
   "execution_count": null,
   "metadata": {},
   "outputs": [],
   "source": [
    "# this is required for the `Output` widgets to work properly\n",
    "%matplotlib widget"
   ]
  },
  {
   "cell_type": "markdown",
   "metadata": {},
   "source": [
    "Follow through the *notebook* and answer the 5 questions raised (highligted in <font color='red'>red</font>)."
   ]
  },
  {
   "cell_type": "markdown",
   "metadata": {},
   "source": [
    "A couple of off-topic remarks:\n",
    "* Seemingly, the performance of the app is better in [Chrome](https://www.google.com/chrome/), though [Firefox](https://www.mozilla.org/en-US/firefox/) is also fine.\n",
    "* Before playing any recording, especially if you are using earphones, please make sure the volume is not too loud.\n",
    "* For answering the questions, you don't need to hear the full song every time. It is usually enough to play the first 5-10 seconds.\n",
    "* When adjusting the sliders below, you usually need to wait for a few seconds for the app to update and some *flickering* might occur. Please be patient. Bear in mind that this is running *in the cloud* and, sometimes, modulation/demodulation of a high-quality audio recording is being performed for you."
   ]
  },
  {
   "cell_type": "markdown",
   "metadata": {},
   "source": [
    "# Introduction"
   ]
  },
  {
   "cell_type": "markdown",
   "metadata": {},
   "source": [
    "Please check the [slides of the course](https://manuvazquez.github.io/assets/communications_theory/slides/analog_modulations.pdf) for this module. Extra background information can be found in the slides for the [course introduction](https://manuvazquez.github.io/assets/communications_theory/slides/introduction.pdf), when talking about *Analog vs Digital communications systems*"
   ]
  },
  {
   "cell_type": "markdown",
   "metadata": {},
   "source": [
    "# Amplitude Modulation (conventional AM)"
   ]
  },
  {
   "cell_type": "markdown",
   "metadata": {},
   "source": [
    "An amplitude modulation is a kind of *linear* or *amplitude* (**analog**) modulation, i.e., the information signal is embedded in the amplitude of the signal (meaning the frequency and phase of the *carrier signal* stay constant). If we denote the information signal (also referred to as _modulat**ing**_ signal) by $x(t)$, then the _modulat**ed**_ signal is given by\n",
    "\n",
    "$$\n",
    "\\large\n",
    "y(t)\n",
    "=\n",
    "\\left( \n",
    "    A_c +\n",
    "    A_m\n",
    "    x(t)\n",
    "\\right)\n",
    "\\cos (w_ct)\n",
    "$$\n",
    "where\n",
    "* both $A_c$ and $A_m$ are (adjustable) modulation parameters \n",
    "* $w_c$ is the carrier frequency"
   ]
  },
  {
   "cell_type": "markdown",
   "metadata": {},
   "source": [
    "The above signal can be expressed in a different way\n",
    "\n",
    "$$\n",
    "\\large\n",
    "y(t)\n",
    "=\n",
    "\\left( \n",
    "    A_c +\n",
    "    \\frac{A_c}{A_c}\n",
    "    A_m\n",
    "    x(t)\n",
    "\\right)\n",
    "\\cos (w_ct)\n",
    "=\n",
    "A_c\n",
    "\\left(\n",
    "    1 + mx(t)\n",
    "\\right)\n",
    "\\cos (w_ct)\n",
    "$$\n",
    "by defining the **modulation index**\n",
    "\n",
    "$$\n",
    "\\large\n",
    "m\n",
    "=\n",
    "\\frac{A_m}{A_c}\n",
    "$$\n",
    "."
   ]
  },
  {
   "cell_type": "markdown",
   "metadata": {},
   "source": [
    "# Demodulation"
   ]
  },
  {
   "cell_type": "markdown",
   "metadata": {},
   "source": [
    "If the signal is *normalized* (i.e., $|x(t)| \\le 1$), looking at the above equation, demodulation is very easy if\n",
    "\n",
    "$$\n",
    "    \\large\n",
    "    A_c\n",
    "    \\left(\n",
    "        1 + mx(t)\n",
    "    \\right)\n",
    "    \\ge\n",
    "    0\n",
    "$$\n",
    "\n",
    "i.e., if the term multiplying the cosine is (at every time instant) non-negative. The reason is that whatever *positive* signal multiplies a rapidly varying cosine constitutes its so-called upper [envelope](https://en.wikipedia.org/wiki/Envelope_(waves)) (a smooth signal that outlines the extremes of a sinusoid), and simple/cheap/efficient hardware is available to extract the latter. Now, if the signal is at some point negative, then it cannot be recovered as the envelope of the signal. In our particular case, what do we need for the condition\n",
    "$\n",
    "    A_c\n",
    "    \\left(\n",
    "        1 + mx(t)\n",
    "    \\right)\n",
    "    \\ge\n",
    "    0\n",
    "$\n",
    "to hold? Above we have guaranteed that $|x(t)| \\le 1$. Let us also assume that $A_c \\ge 0$ (no need to go into details, but this is not a problem). Then,  we just need to choose $m$ so that $mx(t) \\ge -1$, i.e., $ 0 < m \\le 1$.\n",
    "\n",
    "So, in summary, if the modulation index, $m$ is between $0$ and $1$, then the envelope of the modulated signal (easy to extract) is exactly\n",
    "$\n",
    "    A_c\n",
    "    \\left(\n",
    "        1 + mx(t)\n",
    "    \\right)\n",
    "    \\ge\n",
    "    0\n",
    "$, and from the latter one can solve for $x(t)$ to recover the information signal. If $m>1$, then the envelope of the signal doesn't match anymore\n",
    "$\n",
    "    A_c\n",
    "    \\left(\n",
    "        1 + mx(t)\n",
    "    \\right)\n",
    "    \\ge\n",
    "    0\n",
    "$\n",
    "and the signal recovered with this envelope-based method is not correct. This is called **overmodulation**."
   ]
  },
  {
   "cell_type": "markdown",
   "metadata": {},
   "source": [
    "# An audio signal"
   ]
  },
  {
   "cell_type": "markdown",
   "metadata": {},
   "source": [
    "We load a piece of the song *Reverie* by [\\_ghost](http://ccmixter.org/files/_ghost/25389) (downloaded from [ccMixter](http://ccmixter.org/) under [Creative Commons licence](https://creativecommons.org/licenses/by/3.0/))."
   ]
  },
  {
   "cell_type": "code",
   "execution_count": null,
   "metadata": {},
   "outputs": [],
   "source": [
    "# filename = pathlib.Path('_ghost_-_Reverie_(small_theme).mp3')\n",
    "filename = pathlib.Path('_ghost_-_Reverie_(small_theme).wav')\n",
    "assert filename.exists()"
   ]
  },
  {
   "cell_type": "code",
   "execution_count": null,
   "metadata": {},
   "outputs": [],
   "source": [
    "signal, sampling_rate = librosa.load(filename)\n",
    "# signal.shape"
   ]
  },
  {
   "cell_type": "code",
   "execution_count": null,
   "metadata": {},
   "outputs": [],
   "source": [
    "# a normalized version of the signal\n",
    "normalized_signal, normalization_const = analog.normalize(signal, return_normalization_constant=True)"
   ]
  },
  {
   "cell_type": "code",
   "execution_count": null,
   "metadata": {},
   "outputs": [],
   "source": [
    "# a scaled up one\n",
    "amplified_signal = signal * 11"
   ]
  },
  {
   "cell_type": "code",
   "execution_count": null,
   "metadata": {},
   "outputs": [],
   "source": [
    "# time axis\n",
    "t = np.arange(len(signal)) / sampling_rate"
   ]
  },
  {
   "cell_type": "code",
   "execution_count": null,
   "metadata": {},
   "outputs": [],
   "source": [
    "IPython.display.display(IPython.display.Audio(signal, rate=sampling_rate))"
   ]
  },
  {
   "cell_type": "code",
   "execution_count": null,
   "metadata": {},
   "outputs": [],
   "source": [
    "# Parameters\n",
    "w_c = 2 * np.pi * 1_000\n",
    "A_m = 1.\n",
    "A_c = 2."
   ]
  },
  {
   "cell_type": "code",
   "execution_count": null,
   "metadata": {},
   "outputs": [],
   "source": [
    "def make_plot_and_player(signal: np.ndarray) -> list:\n",
    "    \n",
    "    # modulation/demodulation\n",
    "    am = analog.AmplitudeModulation(Am=A_m, Ac=A_c, carrier_freq=w_c)\n",
    "    modulated_signal, *_ = am.modulate(t, signal)\n",
    "    demodulated_signal = am.demodulate(modulated_signal)\n",
    "    \n",
    "    res = []\n",
    "\n",
    "    # a `matplotlib` figure embedded in an `Output` widget\n",
    "    figure_size = (6,8)\n",
    "    output = widgets.Output()\n",
    "    with output:\n",
    "        fig, ax = plt.subplots(1, 1, figsize=figure_size)\n",
    "    ax.plot(t, signal);\n",
    "    fig.canvas.toolbar_visible = False\n",
    "    fig.canvas.header_visible = False\n",
    "    fig.canvas.resizable = False\n",
    "    ax.spines['top'].set_visible(False)\n",
    "    ax.spines['right'].set_visible(False)\n",
    "    res.append(output)\n",
    "\n",
    "    # an audio widget\n",
    "    output = widgets.Output()\n",
    "    with output:\n",
    "        IPython.display.display(IPython.display.Audio(demodulated_signal, rate=sampling_rate))\n",
    "    res.append(output)\n",
    "    \n",
    "    return res"
   ]
  },
  {
   "cell_type": "markdown",
   "metadata": {},
   "source": [
    "**<font color='red'>Q1.</font>** Two scaled versions of the signal are modulated and, afterwards, *properly* demodulated using the above algebra. Look at the pictures noting the scale of the vertical axis. Can you guess which one is going to sound OK? If not sure, just play both of them for a few seconds. Which one sounds fine? Why not so much the other? Assume each one of the signals below constitutes the exact $x(t)$ to be transformed using the above equation."
   ]
  },
  {
   "cell_type": "code",
   "execution_count": null,
   "metadata": {},
   "outputs": [],
   "source": [
    "widgets.HBox([\n",
    "    widgets.VBox(make_plot_and_player(amplified_signal)),\n",
    "    widgets.VBox(make_plot_and_player(normalized_signal))])"
   ]
  },
  {
   "cell_type": "markdown",
   "metadata": {},
   "source": [
    "# Overmodulation"
   ]
  },
  {
   "cell_type": "code",
   "execution_count": null,
   "metadata": {},
   "outputs": [],
   "source": [
    "# an interval specifying a small piece of the signal\n",
    "interval_of_interest = range(100_000,100_200)"
   ]
  },
  {
   "cell_type": "markdown",
   "metadata": {},
   "source": [
    "When you adjust one of the slides, please wait a few seconds (more or less depending on the *cloud* servers load) for the browser to refresh (most likely, it will flicker **twice**)."
   ]
  },
  {
   "cell_type": "code",
   "execution_count": null,
   "metadata": {},
   "outputs": [],
   "source": [
    "common_properties = {'min': 0.1, 'max': 50.}\n",
    "Am_slider_widget = widgets.FloatSlider(**common_properties, value=1., description='$A_m$')\n",
    "Ac_slider_widget = widgets.FloatSlider(**common_properties, value=2, description='$A_c$')\n",
    "ui = widgets.VBox([Am_slider_widget, Ac_slider_widget])\n",
    "\n",
    "def f(Am: float, Ac: float):\n",
    "    \n",
    "    # in order to try and avoid the \"RuntimeWarning: More than 20 figures have been opened. Figures...\n",
    "    try:\n",
    "        plt.close(fig)\n",
    "    except UnboundLocalError:\n",
    "        pass\n",
    "    \n",
    "    am = analog.AmplitudeModulation(Am=Am, Ac=Ac, carrier_freq=w_c)\n",
    "    modulated_signal, envelope, cosine_factor = am.modulate(t, normalized_signal)\n",
    "    demodulated_signal = am.demodulate(modulated_signal)\n",
    "    \n",
    "    # figure\n",
    "    fig, ax = plt.subplots(1, 1, figsize=(15,8))\n",
    "    ax.plot(\n",
    "        t[interval_of_interest], normalized_signal[interval_of_interest], label='information (modulating) signal')\n",
    "    ax.plot(\n",
    "        t[interval_of_interest], demodulated_signal[interval_of_interest], label='demodulated signal',\n",
    "        marker='P', markevery=5)\n",
    "#     ax.legend(bbox_to_anchor=(1.05, 1.0), loc='upper left',fontsize='x-large')\n",
    "    ax.legend(loc='upper left',fontsize='x-large')\n",
    "    player = IPython.display.Audio(demodulated_signal, rate=sampling_rate)\n",
    "    fig.canvas.toolbar_visible = False\n",
    "    fig.canvas.footer_visible = False\n",
    "    fig.canvas.header_visible = False\n",
    "    fig.canvas.resizable = False\n",
    "    \n",
    "#     print(f'm = {am.m}')\n",
    "    \n",
    "    display(IPython.display.Audio(demodulated_signal, rate=sampling_rate))\n",
    "\n",
    "out = widgets.interactive_output(f, {'Am': Am_slider_widget, 'Ac': Ac_slider_widget})\n",
    "IPython.display.display(ui, out)"
   ]
  },
  {
   "cell_type": "markdown",
   "metadata": {},
   "source": [
    "Try different values of the parameteres $A_m$ and $A_c$ and compare the information and demodulated signals. You can also play the demodulated signal by clicking the corresponding button below."
   ]
  },
  {
   "cell_type": "markdown",
   "metadata": {},
   "source": [
    "**<font color='red'>Q2.</font>** Provide values for $A_m$ and $A_c$ that cause overmodulation. What do you notice in the plot? Why doesn't it affect the whole signal?"
   ]
  },
  {
   "cell_type": "markdown",
   "metadata": {},
   "source": [
    "**<font color='red'>Q3.</font>** Test the effects of overmodulation on our ears. Can you pick a pair of values for $A_m$ and $A_c$ such that overmodulation happens but doesn't cause a noticeable degradation on the *perceived* sound quality? Above which (approximate) value of the modulation index, $m$, do you start noticing glitches in the audio?"
   ]
  },
  {
   "cell_type": "markdown",
   "metadata": {},
   "source": [
    "# Noise resilience"
   ]
  },
  {
   "cell_type": "code",
   "execution_count": null,
   "metadata": {},
   "outputs": [],
   "source": [
    "# power of the signal\n",
    "P_s = (np.abs(normalized_signal)**2).mean()"
   ]
  },
  {
   "cell_type": "code",
   "execution_count": null,
   "metadata": {},
   "outputs": [],
   "source": [
    "# the modulated signal is always the same\n",
    "am = analog.AmplitudeModulation(Am=A_m, Ac=A_c, carrier_freq=w_c)\n",
    "modulated_signal, envelope, cosine_factor = am.modulate(t, normalized_signal)"
   ]
  },
  {
   "cell_type": "markdown",
   "metadata": {},
   "source": [
    "Below you can see the effect on the demodulated signal when noise is added to the modulated one. In particular, you can adjust the signal-to-noise ratio (SNR) **in dBs** and look and hear the result."
   ]
  },
  {
   "cell_type": "code",
   "execution_count": null,
   "metadata": {},
   "outputs": [],
   "source": [
    "SNR_slider_widget = widgets.FloatSlider(min=5., max=60., value=15., description='SNR')\n",
    "\n",
    "print_output = widgets.Output()\n",
    "\n",
    "def f(SNR: float):\n",
    "    \n",
    "    # in order to try and avoid the \"RuntimeWarning: More than 20 figures have been opened. Figures...\n",
    "    try:\n",
    "        plt.close(fig)\n",
    "    except UnboundLocalError:\n",
    "        pass\n",
    "    \n",
    "    global print_output\n",
    "    \n",
    "    noise_variance = P_s / 10**(SNR / 10.)\n",
    "    noise = np.random.randn(*normalized_signal.shape) * np.sqrt(noise_variance)\n",
    "\n",
    "    demodulated_signal = am.demodulate(modulated_signal + noise)\n",
    "    \n",
    "    # figure\n",
    "    fig, ax = plt.subplots(1, 1, figsize=(15,8))\n",
    "    ax.plot(\n",
    "        t[interval_of_interest], normalized_signal[interval_of_interest], label='information (modulating) signal')\n",
    "    ax.plot(\n",
    "        t[interval_of_interest], demodulated_signal[interval_of_interest], label='demodulated signal',\n",
    "        marker='P', markevery=5)\n",
    "    ax.legend(loc='upper left',fontsize='x-large')\n",
    "    player = IPython.display.Audio(demodulated_signal, rate=sampling_rate)\n",
    "    fig.canvas.toolbar_visible = False\n",
    "    fig.canvas.footer_visible = False\n",
    "    fig.canvas.header_visible = False\n",
    "    fig.canvas.resizable = False\n",
    "    \n",
    "    print_output.clear_output()\n",
    "    \n",
    "    with print_output:\n",
    "        print(f'noise variance = {noise_variance}')\n",
    "    display(IPython.display.Audio(demodulated_signal, rate=sampling_rate))\n",
    "\n",
    "out = widgets.interactive_output(f, {'SNR': SNR_slider_widget})\n",
    "IPython.display.display(widgets.VBox([SNR_slider_widget, print_output]), out)"
   ]
  },
  {
   "cell_type": "markdown",
   "metadata": {},
   "source": [
    "**<font color='red'>Q4.</font>** Below which value of the SNR is the sound not *perceived* as sharp (clear) anymore? $10$ dBs is usually considered a *pretty good* SNR in high quality radio (see, e.g., the last paragraphs in [these notes](https://www.electronics-notes.com/articles/radio/radio-receiver-sensitivity/signal-to-noise-ratio-s-n-snr-formula.php)). According to that, is AM noise-resilient or not?\n",
    "<!-- Notice we are not performing any kind of de-noising, which we should-->"
   ]
  },
  {
   "cell_type": "markdown",
   "metadata": {},
   "source": [
    "**<font color='red'>Q5.</font>** What is the power of the signal for an SNR of about $20$ dBs?"
   ]
  }
 ],
 "metadata": {
  "kernelspec": {
   "display_name": "Python 3",
   "language": "python",
   "name": "python3"
  },
  "language_info": {
   "codemirror_mode": {
    "name": "ipython",
    "version": 3
   },
   "file_extension": ".py",
   "mimetype": "text/x-python",
   "name": "python",
   "nbconvert_exporter": "python",
   "pygments_lexer": "ipython3",
   "version": "3.9.2"
  }
 },
 "nbformat": 4,
 "nbformat_minor": 4
}
